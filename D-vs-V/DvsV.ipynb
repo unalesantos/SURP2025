{
 "cells": [
  {
   "cell_type": "code",
   "execution_count": 3,
   "id": "97209760",
   "metadata": {},
   "outputs": [],
   "source": [
    "import numpy as np\n",
    "import pandas as pd\n",
    "import matplotlib.pyplot as plt"
   ]
  },
  {
   "cell_type": "code",
   "execution_count": 4,
   "id": "3567894c",
   "metadata": {},
   "outputs": [
    {
     "name": "stdout",
     "output_type": "stream",
     "text": [
      "[[1 1 0 ... 1 1 0]\n",
      " [1 1 1 ... 1 1 1]\n",
      " [0 0 1 ... 1 1 1]\n",
      " ...\n",
      " [1 1 0 ... 1 0 0]\n",
      " [0 0 1 ... 0 0 1]\n",
      " [1 1 1 ... 1 1 0]]\n"
     ]
    }
   ],
   "source": [
    "#data set\n",
    "choices_df = pd.read_csv(\"/Users/unasantos/Documents/GitHub/SURP2025/Data/ModelDF.csv\")\n",
    "sandwich_df = pd.read_csv(\"/Users/unasantos/Documents/GitHub/SURP2025/Data/DecisionSandwiches.csv\")\n",
    "\n",
    "#creates matrix of choices\n",
    "choice_cols = [col for col in choices_df.columns if col.startswith('Choice.')]\n",
    "choice_matrix = choices_df[choice_cols].values\n",
    "print(choice_matrix)"
   ]
  },
  {
   "cell_type": "code",
   "execution_count": 5,
   "id": "5985fa04",
   "metadata": {},
   "outputs": [],
   "source": [
    "#gets individual ingredients for each sandwich\n",
    "s1_col = [col for col in sandwich_df.columns if col.startswith('s1')]\n",
    "s2_col = [col for col in sandwich_df.columns if col.startswith('s2')]\n",
    "\n",
    "all_ingredients = pd.unique(sandwich_df[s1_col + s2_col].values.ravel())\n",
    "all_ingredients = [ing for ing in all_ingredients if pd.notna(ing)]\n",
    "\n",
    "#result dictionary\n",
    "results = {'Participant: ': choices_df['Participant'],\"Vegetarian\": choices_df['Vegetarian']}"
   ]
  },
  {
   "cell_type": "code",
   "execution_count": 6,
   "id": "389b2105",
   "metadata": {},
   "outputs": [],
   "source": [
    "def row_has_ingredients(row):\n",
    "    return ingredient in row.values\n",
    "\n",
    "for ingredient in all_ingredients:\n",
    "\n",
    "    s1_has = sandwich_df[s1_col].apply(row_has_ingredients,axis=1)\n",
    "    s2_has = sandwich_df[s2_col].apply(row_has_ingredients,axis=1)\n",
    "\n",
    "    d_list = [] #discriminability list\n",
    "    v_list = [] #validity list\n",
    "\n",
    "    for pid in range(choice_matrix.shape[0]):\n",
    "        participant_choices = choice_matrix[pid]\n",
    "\n",
    "        #initializes numerators and denominators\n",
    "        d_numerator = 0\n",
    "        d_denominator = 0\n",
    "        v_numerator = 0\n",
    "        v_denominator = 0\n",
    "\n",
    "        for trial, choice in enumerate(participant_choices):\n",
    "            if pd.isna(choice):\n",
    "                continue\n",
    "            s1 = s1_has[trial]\n",
    "            s2 = s2_has[trial]\n",
    "\n",
    "            #discriminability = trials where ingredient is present\n",
    "            if s1 or s2: #ingredient present on at least 1 sandwich\n",
    "                d_denominator = d_denominator + 1 #count it toward total d\n",
    "                if (choice == 0 and s1) or (choice == 1 and s2): #participant chose sandwich that had ingredient\n",
    "                    d_numerator = d_numerator + 1\n",
    "            \n",
    "            #validity = of all choices, how often was the ingredient picked\n",
    "            v_denominator = v_denominator + 1 #count every choice trial\n",
    "            if (choice == 0 and s1) or (choice == 1 and s2):\n",
    "                v_numerator = v_numerator + 1\n",
    "        \n",
    "        D = d_numerator / d_denominator if d_denominator > 0 else np.nan\n",
    "        V = v_numerator / v_denominator if v_denominator > 0 else np.nan\n",
    "\n",
    "        d_list.append(D)\n",
    "        v_list.append(V)\n",
    "\n",
    "    results[f\"D_{ingredient}\"] = d_list\n",
    "    results[f\"V_{ingredient}\"] = v_list\n",
    "\n",
    "final_results = pd.DataFrame(results)\n",
    "\n",
    "final_results_veg = final_results[final_results['Vegetarian'] == 'y'].copy()\n",
    "final_results_nonveg = final_results[final_results['Vegetarian'] == 'n'].copy()\n",
    "\n",
    "def drop_cols(df):\n",
    "    keep = ['Particpant','Vegetarian']\n",
    "    cols_to_drop = [col for col in df.columns if col not in keep and df[col].isna().all()]\n",
    "    return df.drop(columns=cols_to_drop)\n",
    "\n",
    "final_results_veg.to_csv(\"DV_Results_Veg.csv\",index=False)\n",
    "final_results_nonveg.to_csv(\"DV_Results_NonVeg.csv\",index=False)\n"
   ]
  },
  {
   "cell_type": "markdown",
   "id": "7f28151f",
   "metadata": {},
   "source": [
    "Graphs"
   ]
  },
  {
   "cell_type": "code",
   "execution_count": 7,
   "id": "4495ac66",
   "metadata": {},
   "outputs": [],
   "source": [
    "import os\n",
    "\n",
    "output_directory = \"/Users/unasantos/Documents/GitHub/SURP2025/D-vs-V/plots_nonveg\"\n",
    "os.makedirs(output_directory,exist_ok=True)"
   ]
  },
  {
   "cell_type": "code",
   "execution_count": 8,
   "id": "717450c0",
   "metadata": {},
   "outputs": [
    {
     "name": "stdout",
     "output_type": "stream",
     "text": [
      "Non-Veg Ingredients: ['Tomatoes', 'Mayonnaise', 'Turkey', 'Bacon', 'Chicken', 'Cheddar cheese', 'Swiss cheese', 'Lettuce', 'Provolone cheese', 'Spinach']\n",
      "Veg Ingredients: ['Tomatoes', 'Onions', 'Cucumbers', 'Lettuce', 'Avocado', 'Sprouts', 'Provolone cheese', 'Peppers', 'Cheddar cheese', 'Mayonnaise']\n"
     ]
    }
   ],
   "source": [
    "slider_df = pd.read_csv(\"/Users/unasantos/Documents/GitHub/SURP2025/Data/SliderIngs.csv\", header=None)\n",
    "\n",
    "nonveg_ingredients = slider_df.iloc[1].dropna().tolist()\n",
    "veg_ingredients = slider_df.iloc[2].dropna().tolist()\n",
    "\n",
    "# Clean them\n",
    "nonveg_ingredients = [ing.strip() for ing in nonveg_ingredients]\n",
    "veg_ingredients = [ing.strip() for ing in veg_ingredients]\n",
    "\n",
    "print(\"Non-Veg Ingredients:\", nonveg_ingredients)\n",
    "print(\"Veg Ingredients:\", veg_ingredients)\n",
    "\n",
    "def plot_dv_grouped(df,ingredients,group_name='Non-Vegetarian',color='red'):\n",
    "    for ing in ingredients:\n",
    "        d_col = f\"D_{ing}\"\n",
    "        v_col = f\"V_{ing}\"\n",
    "\n",
    "        if d_col not in final_results_nonveg.columns or v_col not in final_results_nonveg.columns:\n",
    "            continue\n",
    "\n",
    "        filtered= df[[d_col,v_col]].dropna()\n",
    "        if df.empty:\n",
    "            continue\n",
    "\n",
    "        #plot\n",
    "        plt.figure(figsize=(8,6))\n",
    "        plt.scatter(df[d_col],df[v_col],label=group_name,color=color)\n",
    "        plt.xlabel(f'Discriminability (D) - {ing}')\n",
    "        plt.ylabel(f'Validity (D) - {ing}')\n",
    "        plt.title(f'D vs V for \"{ing}\" for {group_name}')\n",
    "        plt.legend()\n",
    "        plt.grid(True)\n",
    "\n",
    "        filename = f\"DvV_{group_name}_{ing}.png\"\n",
    "        filepath = os.path.join(output_directory,filename)\n",
    "        plt.savefig(filepath,dpi=300,bbox_inches=\"tight\")\n",
    "        plt.close()\n",
    "\n",
    "plot_dv_grouped(final_results_nonveg,nonveg_ingredients,group_name='Non-Vegetarians',color='red')\n"
   ]
  },
  {
   "cell_type": "code",
   "execution_count": 9,
   "id": "563e2e1d",
   "metadata": {},
   "outputs": [],
   "source": [
    "output_directory = \"/Users/unasantos/Documents/GitHub/SURP2025/D-vs-V/plots_veg\"\n",
    "os.makedirs(output_directory,exist_ok=True)"
   ]
  },
  {
   "cell_type": "code",
   "execution_count": 10,
   "id": "2fe9d323",
   "metadata": {},
   "outputs": [
    {
     "name": "stdout",
     "output_type": "stream",
     "text": [
      "Non-Veg Ingredients: ['Tomatoes', 'Mayonnaise', 'Turkey', 'Bacon', 'Chicken', 'Cheddar cheese', 'Swiss cheese', 'Lettuce', 'Provolone cheese', 'Spinach']\n",
      "Veg Ingredients: ['Tomatoes', 'Onions', 'Cucumbers', 'Lettuce', 'Avocado', 'Sprouts', 'Provolone cheese', 'Peppers', 'Cheddar cheese', 'Mayonnaise']\n"
     ]
    }
   ],
   "source": [
    "slider_df = pd.read_csv(\"/Users/unasantos/Documents/GitHub/SURP2025/Data/SliderIngs.csv\", header=None)\n",
    "\n",
    "nonveg_ingredients = slider_df.iloc[1].dropna().tolist()\n",
    "veg_ingredients = slider_df.iloc[2].dropna().tolist()\n",
    "\n",
    "# Clean them\n",
    "nonveg_ingredients = [ing.strip() for ing in nonveg_ingredients]\n",
    "veg_ingredients = [ing.strip() for ing in veg_ingredients]\n",
    "\n",
    "print(\"Non-Veg Ingredients:\", nonveg_ingredients)\n",
    "print(\"Veg Ingredients:\", veg_ingredients)\n",
    "\n",
    "def plot_dv_grouped(df,ingredients,group_name='Vegetarian',color='green'):\n",
    "    for ing in ingredients:\n",
    "        d_col = f\"D_{ing}\"\n",
    "        v_col = f\"V_{ing}\"\n",
    "\n",
    "        if d_col not in final_results_veg.columns or v_col not in final_results_veg.columns:\n",
    "            continue\n",
    "\n",
    "        filtered= df[[d_col,v_col]].dropna()\n",
    "        if df.empty:\n",
    "            continue\n",
    "\n",
    "        #plot\n",
    "        plt.figure(figsize=(8,6))\n",
    "        plt.scatter(df[d_col],df[v_col],label=group_name,color=color)\n",
    "        plt.xlabel(f'Discriminability (D) - {ing}')\n",
    "        plt.ylabel(f'Validity (D) - {ing}')\n",
    "        plt.title(f'D vs V for \"{ing}\" for {group_name}')\n",
    "        plt.legend()\n",
    "        plt.grid(True)\n",
    "\n",
    "        filename = f\"DvV_{group_name}_{ing}.png\"\n",
    "        filepath = os.path.join(output_directory,filename)\n",
    "        plt.savefig(filepath,dpi=300,bbox_inches=\"tight\")\n",
    "        plt.close()\n",
    "\n",
    "plot_dv_grouped(final_results_veg,veg_ingredients,group_name='Vegetarian',color='green')\n",
    "\n",
    "\n",
    "        \n"
   ]
  }
 ],
 "metadata": {
  "kernelspec": {
   "display_name": "base",
   "language": "python",
   "name": "python3"
  },
  "language_info": {
   "codemirror_mode": {
    "name": "ipython",
    "version": 3
   },
   "file_extension": ".py",
   "mimetype": "text/x-python",
   "name": "python",
   "nbconvert_exporter": "python",
   "pygments_lexer": "ipython3",
   "version": "3.11.5"
  }
 },
 "nbformat": 4,
 "nbformat_minor": 5
}
