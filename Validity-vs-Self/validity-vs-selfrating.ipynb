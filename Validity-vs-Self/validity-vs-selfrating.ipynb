{
 "cells": [
  {
   "cell_type": "code",
   "execution_count": 32,
   "id": "563f652e",
   "metadata": {},
   "outputs": [],
   "source": [
    "import numpy as np\n",
    "import pandas as pd\n",
    "import matplotlib.pyplot as plt\n",
    "import os\n",
    "from scipy.stats import linregress"
   ]
  },
  {
   "cell_type": "markdown",
   "id": "140ad456",
   "metadata": {},
   "source": [
    "Non-Vegetarian"
   ]
  },
  {
   "cell_type": "code",
   "execution_count": 33,
   "id": "16e561e0",
   "metadata": {},
   "outputs": [],
   "source": [
    "model_df = pd.read_csv(\"/Users/unasantos/Documents/GitHub/SURP2025/Data/ModelDF.csv\")\n",
    "final_results_nonveg = pd.read_csv(\"/Users/unasantos/Documents/GitHub/SURP2025/D-vs-V/DV_Results_NonVeg.csv\")\n",
    "slider_df = pd.read_csv(\"/Users/unasantos/Documents/GitHub/SURP2025/Data/SliderIngs.csv\",header=None)"
   ]
  },
  {
   "cell_type": "code",
   "execution_count": 34,
   "id": "18064495",
   "metadata": {},
   "outputs": [],
   "source": [
    "output_directory = \"validity_vs_rating_plots_nonveg\"\n",
    "os.makedirs(output_directory,exist_ok=True)"
   ]
  },
  {
   "cell_type": "code",
   "execution_count": 35,
   "id": "c7bc6a40",
   "metadata": {},
   "outputs": [
    {
     "name": "stdout",
     "output_type": "stream",
     "text": [
      "['Tomatoes', 'Mayonnaise', 'Turkey', 'Bacon', 'Chicken', 'Cheddar cheese', 'Swiss cheese', 'Lettuce', 'Provolone cheese', 'Spinach']\n"
     ]
    }
   ],
   "source": [
    "rated_nonveg_ingredients = [str(ing).strip() for ing in slider_df.iloc[1].dropna()]\n",
    "print(rated_nonveg_ingredients)\n",
    "\n",
    "rating_cols = [f\"Rating.{i+1}\" for i in range(len(rated_nonveg_ingredients))]\n"
   ]
  },
  {
   "cell_type": "code",
   "execution_count": 36,
   "id": "7a4e70ae",
   "metadata": {},
   "outputs": [
    {
     "name": "stdout",
     "output_type": "stream",
     "text": [
      "Pearson Correlation - Tomatoes: -0.07334872433159517\n",
      "P-Value - Tomatoes: 0.38060999904664783\n",
      "Standard Error: 0.001658118120605734\n",
      "Pearson Correlation - Mayonnaise: -0.04555723139363778\n",
      "P-Value - Mayonnaise: 0.5916646129024216\n",
      "Standard Error: 0.0020148289104322294\n",
      "Pearson Correlation - Turkey: 0.012305050942140886\n",
      "P-Value - Turkey: 0.8840310622548331\n",
      "Standard Error: 0.0018959047297992767\n",
      "Pearson Correlation - Bacon: -0.02768089647666655\n",
      "P-Value - Bacon: 0.7472399129138939\n",
      "Standard Error: 0.0014574164678948578\n",
      "Pearson Correlation - Chicken: -0.0027516747225519974\n",
      "P-Value - Chicken: 0.9740731337450654\n",
      "Standard Error: 0.002651671448279216\n",
      "Pearson Correlation - Cheddar cheese: -0.06732580760348023\n",
      "P-Value - Cheddar cheese: 0.43099754348998387\n",
      "Standard Error: 0.0016703839532726385\n",
      "Pearson Correlation - Swiss cheese: 0.13030759290411648\n",
      "P-Value - Swiss cheese: 0.12218487137658991\n",
      "Standard Error: 0.0015601460864797803\n",
      "Pearson Correlation - Lettuce: 0.017047318936265404\n",
      "P-Value - Lettuce: 0.8409813630557015\n",
      "Standard Error: 0.002011284233234098\n",
      "Pearson Correlation - Provolone cheese: -0.19498314065412056\n",
      "P-Value - Provolone cheese: 0.020505306960624272\n",
      "Standard Error: 0.0021147715937262436\n",
      "Pearson Correlation - Spinach: 0.022365994036894613\n",
      "P-Value - Spinach: 0.7916266330181314\n",
      "Standard Error: 0.001719157603835423\n"
     ]
    }
   ],
   "source": [
    "for ing, rating_col in zip(rated_nonveg_ingredients,rating_cols):\n",
    "    v_col = f\"V_{ing}\"\n",
    "\n",
    "    if v_col not in final_results.columns or rating_col not in model_df.columns:\n",
    "        print(f\"Skipping {ing} — missing column in data.\")\n",
    "        continue\n",
    "\n",
    "    df = pd.DataFrame()\n",
    "    df['Participant'] = final_results_nonveg['Participant']\n",
    "    df['Validity'] = final_results_nonveg[v_col]\n",
    "    df['SelfRating'] = model_df[rating_col]\n",
    "    df = df.dropna()\n",
    "\n",
    "    x = df[\"SelfRating\"]\n",
    "    y = df[\"Validity\"]\n",
    "\n",
    "    slope,intercept,r_value,p_value,std_error = linregress(x,y)\n",
    "    regression_line = slope * x + intercept\n",
    "    \n",
    "    results = {\n",
    "    \"Ingredient\": {ing},\n",
    "    \"Pearson Correlation\": r_value,\n",
    "    \"P-Value\": p_value,\n",
    "    \"StandardError\": std_error}\n",
    "\n",
    "    # Convert to DataFrame\n",
    "    correlation_results_nonveg = pd.DataFrame([results])\n",
    "\n",
    "    # Append or create a new CSV file\n",
    "    correlation_results_nonveg.to_csv(\"correlation_results_nonveg.csv\", mode=\"a\", index=False, header=not pd.io.common.file_exists(\"correlation_results_nonveg.csv\"))\n",
    "\n",
    "    print(f\"Pearson Correlation - {ing}:\",r_value)\n",
    "    print(f\"P-Value - {ing}:\",p_value)\n",
    "    print(f\"Standard Error:\",std_error)\n",
    "\n",
    "    #plot\n",
    "    plt.figure(figsize=(8, 6))\n",
    "    plt.plot(x, regression_line, color=\"black\", linestyle=\"-\", label=f\"y = {slope:.2f}x + {intercept:.2f}\\n$r$ = {r_value:.2f}, $p$ = {p_value:.3f}\")\n",
    "    plt.scatter(df[\"SelfRating\"], df[\"Validity\"], color='red', edgecolor='black', alpha=0.7)\n",
    "    plt.xlabel(f'Self-Rated Preference for {ing}')\n",
    "    plt.ylabel(f'Validity (V) for {ing}')\n",
    "    plt.title(f'Validity vs Self-Rating: {ing}')\n",
    "    plt.grid(True)\n",
    "    plt.tight_layout()\n",
    "    \n",
    "    filename = f\"ValidityvsSelf_NonVeg_{ing}.png\"\n",
    "    filepath = os.path.join(output_directory,filename)\n",
    "    plt.savefig(filepath,dpi=300,bbox_inches=\"tight\")\n",
    "    plt.close()"
   ]
  },
  {
   "cell_type": "markdown",
   "id": "eb3af65f",
   "metadata": {},
   "source": [
    "Vegetarian"
   ]
  },
  {
   "cell_type": "code",
   "execution_count": 37,
   "id": "6831503f",
   "metadata": {},
   "outputs": [],
   "source": [
    "output_directory = \"validity_vs_rating_plots_veg\"\n",
    "os.makedirs(output_directory,exist_ok=True)"
   ]
  },
  {
   "cell_type": "code",
   "execution_count": 38,
   "id": "882be692",
   "metadata": {},
   "outputs": [],
   "source": [
    "# Row 2 of SliderIngs.csv = vegetarian ingredients\n",
    "veg_ingredients = [str(x).strip() for x in slider_df.iloc[2].dropna()]\n",
    "rating_cols = [f\"Rating.{i+1}\" for i in range(len(veg_ingredients))]\n",
    "\n",
    "final_results_veg = pd.read_csv(\"/Users/unasantos/Documents/GitHub/SURP2025/D-vs-V/DV_Results_Veg.csv\")\n"
   ]
  },
  {
   "cell_type": "code",
   "execution_count": 39,
   "id": "153ade7c",
   "metadata": {},
   "outputs": [
    {
     "name": "stdout",
     "output_type": "stream",
     "text": [
      "Pearson Correlation - Tomatoes: 0.528220590574066\n",
      "P-Value - Tomatoes: 0.0775016101533009\n",
      "Standard Error: 0.005069037957534188\n",
      "Pearson Correlation - Onions: 0.06938201444259852\n",
      "P-Value - Onions: 0.8303463846304924\n",
      "Standard Error: 0.007478279181109691\n",
      "Pearson Correlation - Cucumbers: -0.3216337604513383\n",
      "P-Value - Cucumbers: 0.3079807247937206\n",
      "Standard Error: 0.01203813796876633\n",
      "Pearson Correlation - Lettuce: 0.2568423853566744\n",
      "P-Value - Lettuce: 0.4203240000041164\n",
      "Standard Error: 0.004523498756270489\n",
      "Pearson Correlation - Avocado: 0.44082561451711194\n",
      "P-Value - Avocado: 0.15145888011774292\n",
      "Standard Error: 0.012187941514765606\n",
      "Pearson Correlation - Sprouts: 0.33676510262992165\n",
      "P-Value - Sprouts: 0.2844463726311444\n",
      "Standard Error: 0.0052148666880772665\n",
      "Pearson Correlation - Provolone cheese: 0.037781832156935286\n",
      "P-Value - Provolone cheese: 0.907198010630496\n",
      "Standard Error: 0.004545576495256471\n",
      "Pearson Correlation - Peppers: -0.07290616848733843\n",
      "P-Value - Peppers: 0.8313075770083191\n",
      "Standard Error: 0.01046920320922248\n",
      "Pearson Correlation - Cheddar cheese: 0.0\n",
      "P-Value - Cheddar cheese: 1.0\n",
      "Standard Error: 0.003396297973480895\n",
      "Pearson Correlation - Mayonnaise: -0.17813338448959465\n",
      "P-Value - Mayonnaise: 0.6002603164894085\n",
      "Standard Error: 0.00484560189323236\n"
     ]
    }
   ],
   "source": [
    "for ing, rating_col in zip(veg_ingredients,rating_cols):\n",
    "    v_col = f\"V_{ing}\"\n",
    "\n",
    "    if v_col not in final_results_veg.columns or rating_col not in model_df.columns:\n",
    "        print(f\"Skipping {ing} — missing column in data.\")\n",
    "        continue\n",
    "\n",
    "    df = pd.DataFrame()\n",
    "    df['Participant'] = final_results_veg['Participant']\n",
    "    df['Validity'] = final_results_veg[v_col]\n",
    "    df['SelfRating'] = model_df[rating_col]\n",
    "    df = df.dropna()\n",
    "\n",
    "    x = df[\"SelfRating\"]\n",
    "    y = df[\"Validity\"]\n",
    "\n",
    "    slope,intercept,r_value,p_value,std_error = linregress(x,y)\n",
    "    regression_line = slope * x + intercept\n",
    "\n",
    "    print(f\"Pearson Correlation - {ing}:\",r_value)\n",
    "    print(f\"P-Value - {ing}:\",p_value)\n",
    "    print(f\"Standard Error:\",std_error)\n",
    "\n",
    "    results = {\n",
    "    \"Ingredient\": {ing},\n",
    "    \"Pearson Correlation\": r_value,\n",
    "    \"P-Value\": p_value,\n",
    "    \"StandardError\": std_error}\n",
    "\n",
    "    # Convert to DataFrame\n",
    "    correlation_results_veg = pd.DataFrame([results])\n",
    "\n",
    "    # Append or create a new CSV file\n",
    "    correlation_results_veg.to_csv(\"correlation_results_veg.csv\", mode=\"a\", index=False, header=not pd.io.common.file_exists(\"correlation_results_veg.csv\"))\n",
    "    #plot\n",
    "    plt.figure(figsize=(8, 6))\n",
    "    plt.plot(x, regression_line, color=\"black\", linestyle=\"-\", label=f\"y = {slope:.2f}x + {intercept:.2f}\\n$r$ = {r_value:.2f}, $p$ = {p_value:.3f}\")\n",
    "    plt.scatter(df[\"SelfRating\"], df[\"Validity\"], color='green', edgecolor='black', alpha=0.7)\n",
    "    plt.xlabel(f'Self-Rated Preference for {ing}')\n",
    "    plt.ylabel(f'Validity (V) for {ing}')\n",
    "    plt.title(f'Validity vs Self-Rating: {ing}')\n",
    "    plt.xticks([1, 2, 3, 4, 5, 6, 7])\n",
    "    plt.grid(True)\n",
    "    plt.tight_layout()\n",
    "    filename = f\"ValidityvsSelf_Veg_{ing}.png\"\n",
    "    filepath = os.path.join(output_directory,filename)\n",
    "    plt.savefig(filepath,dpi=300,bbox_inches=\"tight\")\n",
    "    plt.close()\n"
   ]
  }
 ],
 "metadata": {
  "kernelspec": {
   "display_name": "base",
   "language": "python",
   "name": "python3"
  },
  "language_info": {
   "codemirror_mode": {
    "name": "ipython",
    "version": 3
   },
   "file_extension": ".py",
   "mimetype": "text/x-python",
   "name": "python",
   "nbconvert_exporter": "python",
   "pygments_lexer": "ipython3",
   "version": "3.11.5"
  }
 },
 "nbformat": 4,
 "nbformat_minor": 5
}
