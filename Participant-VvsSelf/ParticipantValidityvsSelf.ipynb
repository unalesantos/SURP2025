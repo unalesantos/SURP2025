{
 "cells": [
  {
   "cell_type": "code",
   "execution_count": 65,
   "id": "d80bf47a",
   "metadata": {},
   "outputs": [],
   "source": [
    "import pandas as pd\n",
    "import numpy as np\n",
    "import matplotlib.pyplot as plt\n",
    "import os\n",
    "from scipy.stats import pearsonr"
   ]
  },
  {
   "cell_type": "code",
   "execution_count": 66,
   "id": "ccb404e6",
   "metadata": {},
   "outputs": [],
   "source": [
    "master = pd.read_csv(\"/Users/unasantos/Documents/GitHub/SURP2025/Data/MasterClean.csv\")\n",
    "decisions = pd.read_csv(\"/Users/unasantos/Documents/GitHub/SURP2025/Data/DecisionSandwiches.csv\")\n",
    "model_df = pd.read_csv(\"/Users/unasantos/Documents/GitHub/SURP2025/Data/ModelDF.csv\")\n",
    "slider_ings = pd.read_csv(\"/Users/unasantos/Documents/GitHub/SURP2025/Data/SliderIngs.csv\",header=None)"
   ]
  },
  {
   "cell_type": "code",
   "execution_count": 67,
   "id": "5dcf5697",
   "metadata": {},
   "outputs": [],
   "source": [
    "ratings_cols = [f\"Rating.{i}\" for i in range(1,11)]\n",
    "veg_ingredients = slider_ings.iloc[0].tolist()\n",
    "non_veg_ingredients = slider_ings.iloc[1].tolist()\n",
    "\n",
    "ingredient_ratings = []"
   ]
  },
  {
   "cell_type": "code",
   "execution_count": 68,
   "id": "113271c7",
   "metadata": {},
   "outputs": [],
   "source": [
    "for i, row in model_df.iterrows():\n",
    "    pid = row[\"Participant\"]\n",
    "    is_veg = str(row['Vegetarian']).strip().lower() == 'y'\n",
    "    ing_labels = veg_ingredients if is_veg else non_veg_ingredients\n",
    "\n",
    "    for label, rating_col in zip(ing_labels,ratings_cols):\n",
    "        ingredient_ratings.append({\n",
    "            \"participant\":pid,\n",
    "            \"ingredient\":str(label).strip().lower(),\n",
    "            \"rating\":row[rating_col]\n",
    "        })\n",
    "\n",
    "ingredient_ratings_df = pd.DataFrame(ingredient_ratings)"
   ]
  },
  {
   "cell_type": "code",
   "execution_count": 69,
   "id": "bf2b6050",
   "metadata": {},
   "outputs": [],
   "source": [
    "sand1_cols = [f\"s1{i}\" for i in range(1,9)]\n",
    "sand2_cols = [f\"s2{i}\" for i in range(1,9)]\n",
    "\n",
    "#rename decision columns\n",
    "decisions_clean = decisions[sand1_cols + sand2_cols].copy()\n",
    "decisions_clean.columns = [f\"s1_{i}\" for i in range(1,9)] + [f\"s2_{i}\" for i in range(1,9)]\n"
   ]
  },
  {
   "cell_type": "code",
   "execution_count": 70,
   "id": "e531c33d",
   "metadata": {},
   "outputs": [],
   "source": [
    "def avg_rating(ingredients,rating_lookup):\n",
    "    ratings = []\n",
    "    for ing in ingredients:\n",
    "        ing = str(ing).strip().lower()\n",
    "        val = rating_lookup.get(ing)\n",
    "        if pd.notna(val):\n",
    "            ratings.append(val)\n",
    "    return np.mean(ratings) if ratings else np.nan"
   ]
  },
  {
   "cell_type": "code",
   "execution_count": null,
   "id": "70a628ea",
   "metadata": {},
   "outputs": [],
   "source": [
    "results = []\n",
    "\n",
    "for i, row in master.iterrows():\n",
    "    pid = row['participant']\n",
    "    choice = row['Decision.keys']\n",
    "    if choice not in ['a','l']:\n",
    "        continue\n",
    "\n",
    "    #determine if there was a sequence flip\n",
    "    sequence = row['sequence'] if 'sequence' in row else 0\n",
    "    trial_index = int(row['trials.thisIndex'])\n",
    "    s1_ings = [decisions_clean.iloc[trial_index][f\"s1_{j}\"] for j in range(1, 9)]\n",
    "    s2_ings = [decisions_clean.iloc[trial_index][f\"s2_{j}\"] for j in range(1,9)]\n",
    "\n",
    "    participant_ratings = ingredient_ratings_df[ingredient_ratings_df['participant'] == pid]\n",
    "    rating_dict = dict(zip(participant_ratings['ingredient'],participant_ratings['rating']))\n",
    "\n",
    "    s1_avg = avg_rating(s1_ings,rating_dict) #calculate average rating based on own rating\n",
    "    s2_avg = avg_rating(s2_ings,rating_dict)\n",
    "\n",
    "    if sequence == 1:\n",
    "        chosen = 1 if choice == 'l' else 2\n",
    "    else:\n",
    "        chosen = 1 if choice == 'a' else 2\n",
    "\n",
    "    preferred = 1 if s1_avg > s2_avg else 2 if s2_avg > s1_avg else 0\n",
    "    valid = (chosen == preferred) if preferred != 0 else np.nan \n",
    "    #if participant chose sandwich with higher average rating then trial was marked as valid\n",
    "    #if equal to or lower, then marked as invalid\n",
    "\n",
    "    results.append({\n",
    "        \"participant\": pid,\n",
    "        \"trial\": trial_index,\n",
    "        \"chosen\":chosen,\n",
    "        \"preferred\":preferred,\n",
    "        \"s1_avg\":s1_avg,\n",
    "        \"s2_avg\":s2_avg,\n",
    "        \"valid\":valid\n",
    "    })\n",
    "\n",
    "results_df = pd.DataFrame(results)\n",
    "\n",
    "summary = results_df.groupby('participant').agg(\n",
    "    slider_validity=('valid','mean'), # no. of valid choices made / #valid trials made\n",
    "    n_valid_trials=('valid','count')\n",
    ").reset_index()\n",
    "\n",
    "summary.to_csv(\"slider_validity_by_participant.csv\", index=False)"
   ]
  },
  {
   "cell_type": "code",
   "execution_count": 72,
   "id": "6a3b69c1",
   "metadata": {},
   "outputs": [],
   "source": [
    "output_directory = \"/Users/unasantos/Documents/GitHub/SURP2025/Participant-VvsSelf\"\n",
    "os.makedirs(output_directory,exist_ok=True)"
   ]
  },
  {
   "cell_type": "code",
   "execution_count": 73,
   "id": "8bca242a",
   "metadata": {},
   "outputs": [],
   "source": [
    "\n",
    "validity_df = pd.read_csv(\"slider_validity_by_participant.csv\")\n",
    "\n",
    "# makes sure Participant ID formats match\n",
    "validity_df[\"participant\"] = validity_df[\"participant\"].astype(str)\n",
    "model_df[\"Participant\"] = model_df[\"Participant\"].astype(str)\n",
    "\n",
    "# calculate average ingredient rating\n",
    "rating_cols = [f\"Rating.{i}\" for i in range(1, 11)]\n",
    "model_df[\"self_rating_avg\"] = model_df[rating_cols].mean(axis=1)\n",
    "\n",
    "# Merge\n",
    "merged = validity_df.merge(model_df[[\"Participant\", \"self_rating_avg\"]],\n",
    "                           left_on=\"participant\", right_on=\"Participant\")\n",
    "\n",
    "# cleans data\n",
    "merged_clean = merged.dropna(subset=[\"self_rating_avg\", \"slider_validity\"])\n",
    "\n",
    "r, p = pearsonr(merged_clean[\"self_rating_avg\"], merged_clean[\"slider_validity\"])\n",
    "\n",
    "\n",
    "plt.figure(figsize=(8, 6))\n",
    "plt.scatter(merged_clean[\"self_rating_avg\"], merged_clean[\"slider_validity\"], alpha=0.7)\n",
    "plt.xlabel(\"Average Ingredient Rating (Self-Rating)\")\n",
    "plt.ylabel(\"Slider-Based Validity\")\n",
    "plt.title(f\"Slider Validity vs Self-Rating\\n(Pearson r = {r:.2f})\")\n",
    "\n",
    "fit = np.polyfit(merged_clean[\"self_rating_avg\"], merged_clean[\"slider_validity\"], 1)\n",
    "x_vals = np.linspace(merged_clean[\"self_rating_avg\"].min(), merged_clean[\"self_rating_avg\"].max(), 100)\n",
    "plt.plot(x_vals, np.polyval(fit, x_vals), color=\"red\", linestyle=\"--\", label=\"Trendline\")\n",
    "\n",
    "plt.grid(True)\n",
    "plt.tight_layout()\n",
    "\n",
    "filename = f\"ValidityvsAvgSelfRating.png\"\n",
    "filepath = os.path.join(output_directory,filename)\n",
    "plt.savefig(filepath,dpi=300,bbox_inches=\"tight\")\n",
    "plt.close()\n",
    "\n"
   ]
  }
 ],
 "metadata": {
  "kernelspec": {
   "display_name": "base",
   "language": "python",
   "name": "python3"
  },
  "language_info": {
   "codemirror_mode": {
    "name": "ipython",
    "version": 3
   },
   "file_extension": ".py",
   "mimetype": "text/x-python",
   "name": "python",
   "nbconvert_exporter": "python",
   "pygments_lexer": "ipython3",
   "version": "3.11.5"
  }
 },
 "nbformat": 4,
 "nbformat_minor": 5
}
